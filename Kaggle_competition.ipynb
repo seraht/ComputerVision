{
  "nbformat": 4,
  "nbformat_minor": 0,
  "metadata": {
    "colab": {
      "name": "Kaggle competition",
      "provenance": [],
      "toc_visible": true
    },
    "kernelspec": {
      "name": "python3",
      "display_name": "Python 3"
    },
    "accelerator": "GPU"
  },
  "cells": [
    {
      "cell_type": "code",
      "metadata": {
        "id": "25BiSs2t_Wvq",
        "colab_type": "code",
        "colab": {
          "base_uri": "https://localhost:8080/",
          "height": 69
        },
        "outputId": "ce38b630-79c4-413d-bd0b-3aee73dee368"
      },
      "source": [
        "import cv2\n",
        "import matplotlib.pyplot as plt\n",
        "from mpl_toolkits.axes_grid1 import ImageGrid\n",
        "import numpy as np\n",
        "import tensorflow.compat.v1 as tf\n",
        "tf.disable_v2_behavior()\n"
      ],
      "execution_count": 2,
      "outputs": [
        {
          "output_type": "stream",
          "text": [
            "WARNING:tensorflow:From /usr/local/lib/python3.6/dist-packages/tensorflow/python/compat/v2_compat.py:96: disable_resource_variables (from tensorflow.python.ops.variable_scope) is deprecated and will be removed in a future version.\n",
            "Instructions for updating:\n",
            "non-resource variables are not supported in the long term\n"
          ],
          "name": "stdout"
        }
      ]
    },
    {
      "cell_type": "code",
      "metadata": {
        "id": "mxGgMpT-JdZF",
        "colab_type": "code",
        "colab": {
          "base_uri": "https://localhost:8080/",
          "height": 124
        },
        "outputId": "e117e01e-42d2-4e88-dc32-6d31754fbb83"
      },
      "source": [
        "from google.colab import drive\n",
        "drive.mount('/content/drive/')"
      ],
      "execution_count": 4,
      "outputs": [
        {
          "output_type": "stream",
          "text": [
            "Go to this URL in a browser: https://accounts.google.com/o/oauth2/auth?client_id=947318989803-6bn6qk8qdgf4n4g3pfee6491hc0brc4i.apps.googleusercontent.com&redirect_uri=urn%3aietf%3awg%3aoauth%3a2.0%3aoob&scope=email%20https%3a%2f%2fwww.googleapis.com%2fauth%2fdocs.test%20https%3a%2f%2fwww.googleapis.com%2fauth%2fdrive%20https%3a%2f%2fwww.googleapis.com%2fauth%2fdrive.photos.readonly%20https%3a%2f%2fwww.googleapis.com%2fauth%2fpeopleapi.readonly&response_type=code\n",
            "\n",
            "Enter your authorization code:\n",
            "4/4AHmSd08YoSVHCzpsi2aFWPlG8bPAGN6veC7qZjbYn8XLIK7IqAMnMM\n",
            "Mounted at /content/drive/\n"
          ],
          "name": "stdout"
        }
      ]
    },
    {
      "cell_type": "markdown",
      "metadata": {
        "id": "6VDoqM6FxEJs",
        "colab_type": "text"
      },
      "source": [
        "##Data Preprocessing"
      ]
    },
    {
      "cell_type": "code",
      "metadata": {
        "id": "GjS9ZiS9JqbV",
        "colab_type": "code",
        "colab": {}
      },
      "source": [
        "path = \"drive/My Drive/data/data/images\"\n"
      ],
      "execution_count": 5,
      "outputs": []
    },
    {
      "cell_type": "code",
      "metadata": {
        "id": "4gTCI4jl_Yjr",
        "colab_type": "code",
        "colab": {}
      },
      "source": [
        "cells = []\n",
        "dots = []\n",
        "\n",
        "for index in range(1,201):\n",
        "    if index < 10:\n",
        "        path_cells = str(path + f\"/00{str(index)}\" + \"cell.png\")\n",
        "        path_dots = str(path + f\"/00{str(index)}\" + \"dots.png\")\n",
        "    elif index < 100:\n",
        "        path_cells = str(path + f\"/0{str(index)}\" + \"cell.png\")\n",
        "        path_dots = str(path + f\"/0{str(index)}\" + \"dots.png\")\n",
        "    elif index >= 100:\n",
        "        path_cells = str(path + \"/\" + str(index) + \"cell.png\")\n",
        "        path_dots = str(path + \"/\" + str(index) + \"dots.png\")\n",
        "\n",
        "    cell = cv2.imread(path_cells)\n",
        "    dot = cv2.imread(path_dots)\n",
        "    #cells.append(cv2.cvtColor(cell, cv2.COLOR_BGR2GRAY))  #used to convert an image from one color space to another\n",
        "    cells.append(cell)  #used to convert an image from one color space to another\n",
        "    dots.append(cv2.countNonZero(cv2.imread(path_dots,0)))\n",
        "\n"
      ],
      "execution_count": 7,
      "outputs": []
    },
    {
      "cell_type": "code",
      "metadata": {
        "id": "kPA8irK6X1wV",
        "colab_type": "code",
        "colab": {}
      },
      "source": [
        "cells = np.array(cells)\n",
        "dots = np.array(dots)"
      ],
      "execution_count": 8,
      "outputs": []
    },
    {
      "cell_type": "markdown",
      "metadata": {
        "id": "QuK-VWZkxKSw",
        "colab_type": "text"
      },
      "source": [
        "## Splitting Data"
      ]
    },
    {
      "cell_type": "code",
      "metadata": {
        "id": "Un0BuvtmS7CY",
        "colab_type": "code",
        "colab": {
          "base_uri": "https://localhost:8080/",
          "height": 52
        },
        "outputId": "a8f4cf0b-3223-4f60-f86b-5e13f3cfd3ec"
      },
      "source": [
        "size = int(200*0.2)\n",
        "\n",
        "test_idx = np.random.randint(len(cells), size=size)\n",
        "idx = np.arange(1,200) \n",
        "training_idx = np.setdiff1d(idx, test_idx)\n",
        "\n",
        "training_cells, test_cells = cells[training_idx], cells[test_idx]\n",
        "training_dots, test_dots = dots[training_idx], dots[test_idx]\n",
        "\n",
        "print(training_cells.shape, test_cells.shape)\n",
        "print(training_dots.shape, test_dots.shape)"
      ],
      "execution_count": 9,
      "outputs": [
        {
          "output_type": "stream",
          "text": [
            "(164, 256, 256, 3) (40, 256, 256, 3)\n",
            "(164,) (40,)\n"
          ],
          "name": "stdout"
        }
      ]
    },
    {
      "cell_type": "markdown",
      "metadata": {
        "id": "TOKCnYVpxNmG",
        "colab_type": "text"
      },
      "source": [
        "##Model1"
      ]
    },
    {
      "cell_type": "code",
      "metadata": {
        "id": "k1_H-3ZiZcvf",
        "colab_type": "code",
        "colab": {}
      },
      "source": [
        "from tensorflow.keras.layers.experimental import preprocessing\n",
        "from tensorflow import keras\n",
        "from tensorflow.keras import layers"
      ],
      "execution_count": 10,
      "outputs": []
    },
    {
      "cell_type": "code",
      "metadata": {
        "id": "gIiiKDRdZxUp",
        "colab_type": "code",
        "colab": {}
      },
      "source": [
        "shape = ( 256, 256,3)"
      ],
      "execution_count": 11,
      "outputs": []
    },
    {
      "cell_type": "code",
      "metadata": {
        "id": "NwL0LmMiaj9n",
        "colab_type": "code",
        "colab": {
          "base_uri": "https://localhost:8080/",
          "height": 624
        },
        "outputId": "754358d0-8520-4dda-f734-ea8eca8a8e0e"
      },
      "source": [
        "from tensorflow.keras.models import Sequential\n",
        "from tensorflow.keras.layers import Dense, Conv2D, MaxPooling2D, Flatten\n",
        "from tensorflow.keras.layers.experimental.preprocessing import Rescaling\n",
        "\n",
        "m1 = keras.Sequential(layers=None, name=None)\n",
        "m1.add(Rescaling(1./255, input_shape=shape))\n",
        "\n",
        "m1.add(Conv2D(64, 3, activation='relu'))\n",
        "m1.add(Conv2D(64, 3, activation='relu'))\n",
        "m1.add(MaxPooling2D())\n",
        "\n",
        "m1.add(Conv2D(64, 3, activation='relu'))\n",
        "m1.add(Conv2D(64, 3, activation='relu'))\n",
        "m1.add(MaxPooling2D())\n",
        "\n",
        "m1.add(Conv2D(64, 3, activation='relu'))\n",
        "m1.add(Conv2D(64, 3, activation='relu'))\n",
        "m1.add(MaxPooling2D())\n",
        "\n",
        "m1.add(Flatten())\n",
        "m1.add(Dense(64, activation='relu'))\n",
        "m1.add(Dense(1))\n",
        "m1.summary()\n",
        "\n",
        "\"\"\"model = tf.keras.Sequential()\n",
        "model.add(m1)\n",
        "model.add(Flatten())\n",
        "model.add(Dense(128, activation='relu'))\n",
        "model.add(Dense(1))\n",
        "model.summary()\"\"\"\n"
      ],
      "execution_count": 12,
      "outputs": [
        {
          "output_type": "stream",
          "text": [
            "Model: \"sequential\"\n",
            "_________________________________________________________________\n",
            "Layer (type)                 Output Shape              Param #   \n",
            "=================================================================\n",
            "rescaling (Rescaling)        (None, 256, 256, 3)       0         \n",
            "_________________________________________________________________\n",
            "conv2d (Conv2D)              (None, 254, 254, 64)      1792      \n",
            "_________________________________________________________________\n",
            "conv2d_1 (Conv2D)            (None, 252, 252, 64)      36928     \n",
            "_________________________________________________________________\n",
            "max_pooling2d (MaxPooling2D) (None, 126, 126, 64)      0         \n",
            "_________________________________________________________________\n",
            "conv2d_2 (Conv2D)            (None, 124, 124, 64)      36928     \n",
            "_________________________________________________________________\n",
            "conv2d_3 (Conv2D)            (None, 122, 122, 64)      36928     \n",
            "_________________________________________________________________\n",
            "max_pooling2d_1 (MaxPooling2 (None, 61, 61, 64)        0         \n",
            "_________________________________________________________________\n",
            "conv2d_4 (Conv2D)            (None, 59, 59, 64)        36928     \n",
            "_________________________________________________________________\n",
            "conv2d_5 (Conv2D)            (None, 57, 57, 64)        36928     \n",
            "_________________________________________________________________\n",
            "max_pooling2d_2 (MaxPooling2 (None, 28, 28, 64)        0         \n",
            "_________________________________________________________________\n",
            "flatten (Flatten)            (None, 50176)             0         \n",
            "_________________________________________________________________\n",
            "dense (Dense)                (None, 64)                3211328   \n",
            "_________________________________________________________________\n",
            "dense_1 (Dense)              (None, 1)                 65        \n",
            "=================================================================\n",
            "Total params: 3,397,825\n",
            "Trainable params: 3,397,825\n",
            "Non-trainable params: 0\n",
            "_________________________________________________________________\n"
          ],
          "name": "stdout"
        },
        {
          "output_type": "execute_result",
          "data": {
            "application/vnd.google.colaboratory.intrinsic+json": {
              "type": "string"
            },
            "text/plain": [
              "\"model = tf.keras.Sequential()\\nmodel.add(m1)\\nmodel.add(Flatten())\\nmodel.add(Dense(128, activation='relu'))\\nmodel.add(Dense(1))\\nmodel.summary()\""
            ]
          },
          "metadata": {
            "tags": []
          },
          "execution_count": 12
        }
      ]
    },
    {
      "cell_type": "code",
      "metadata": {
        "id": "bry9zEi7a4jz",
        "colab_type": "code",
        "colab": {
          "base_uri": "https://localhost:8080/",
          "height": 34
        },
        "outputId": "43c29aa1-2128-4ba1-a5b7-7e36a0424662"
      },
      "source": [
        "m1.input_shape, m1.output_shape"
      ],
      "execution_count": 13,
      "outputs": [
        {
          "output_type": "execute_result",
          "data": {
            "text/plain": [
              "((None, 256, 256, 3), (None, 1))"
            ]
          },
          "metadata": {
            "tags": []
          },
          "execution_count": 13
        }
      ]
    },
    {
      "cell_type": "code",
      "metadata": {
        "id": "PgyAaq0ofGyV",
        "colab_type": "code",
        "colab": {}
      },
      "source": [
        "# compile model\n",
        "m1.compile(optimizer='adam', loss='mse',metrics=[tf.keras.metrics.MeanSquaredError()])"
      ],
      "execution_count": 14,
      "outputs": []
    },
    {
      "cell_type": "code",
      "metadata": {
        "id": "5cqnuuCzfOJS",
        "colab_type": "code",
        "colab": {
          "base_uri": "https://localhost:8080/",
          "height": 1000
        },
        "outputId": "8914d0ce-d07a-430d-98cc-47a8ea91d2af"
      },
      "source": [
        "EPOCHS=150\n",
        "\n",
        "history = m1.fit( training_cells, training_dots, validation_data=(test_cells,test_dots), batch_size=16, epochs=EPOCHS)"
      ],
      "execution_count": 15,
      "outputs": [
        {
          "output_type": "stream",
          "text": [
            "Train on 164 samples, validate on 40 samples\n",
            "Epoch 1/150\n",
            "164/164 [==============================] - ETA: 0s - loss: 14957.3676 - mean_squared_error: 14957.3672WARNING:tensorflow:From /usr/local/lib/python3.6/dist-packages/tensorflow/python/keras/engine/training_v1.py:2048: Model.state_updates (from tensorflow.python.keras.engine.training) is deprecated and will be removed in a future version.\n",
            "Instructions for updating:\n",
            "This property should not be used in TensorFlow 2.0, as updates are applied automatically.\n",
            "164/164 [==============================] - 4s 23ms/sample - loss: 14957.3676 - mean_squared_error: 14957.3672 - val_loss: 891.2595 - val_mean_squared_error: 891.2596\n",
            "Epoch 2/150\n",
            "164/164 [==============================] - 2s 13ms/sample - loss: 2305.0511 - mean_squared_error: 2305.0508 - val_loss: 2069.0749 - val_mean_squared_error: 2069.0750\n",
            "Epoch 3/150\n",
            "164/164 [==============================] - 2s 13ms/sample - loss: 1800.6434 - mean_squared_error: 1800.6434 - val_loss: 2135.0058 - val_mean_squared_error: 2135.0059\n",
            "Epoch 4/150\n",
            "164/164 [==============================] - 2s 13ms/sample - loss: 1525.9241 - mean_squared_error: 1525.9242 - val_loss: 1358.2490 - val_mean_squared_error: 1358.2490\n",
            "Epoch 5/150\n",
            "164/164 [==============================] - 2s 13ms/sample - loss: 1179.0899 - mean_squared_error: 1179.0897 - val_loss: 623.7579 - val_mean_squared_error: 623.7579\n",
            "Epoch 6/150\n",
            "164/164 [==============================] - 2s 13ms/sample - loss: 1232.7075 - mean_squared_error: 1232.7075 - val_loss: 772.4072 - val_mean_squared_error: 772.4072\n",
            "Epoch 7/150\n",
            "164/164 [==============================] - 2s 13ms/sample - loss: 1044.8472 - mean_squared_error: 1044.8472 - val_loss: 536.7968 - val_mean_squared_error: 536.7968\n",
            "Epoch 8/150\n",
            "164/164 [==============================] - 2s 13ms/sample - loss: 595.5259 - mean_squared_error: 595.5259 - val_loss: 305.4654 - val_mean_squared_error: 305.4655\n",
            "Epoch 9/150\n",
            "164/164 [==============================] - 2s 13ms/sample - loss: 553.2207 - mean_squared_error: 553.2208 - val_loss: 221.7458 - val_mean_squared_error: 221.7458\n",
            "Epoch 10/150\n",
            "164/164 [==============================] - 2s 13ms/sample - loss: 312.0720 - mean_squared_error: 312.0720 - val_loss: 136.3131 - val_mean_squared_error: 136.3131\n",
            "Epoch 11/150\n",
            "164/164 [==============================] - 2s 13ms/sample - loss: 210.2418 - mean_squared_error: 210.2418 - val_loss: 153.8652 - val_mean_squared_error: 153.8651\n",
            "Epoch 12/150\n",
            "164/164 [==============================] - 2s 13ms/sample - loss: 270.5385 - mean_squared_error: 270.5385 - val_loss: 310.4896 - val_mean_squared_error: 310.4897\n",
            "Epoch 13/150\n",
            "164/164 [==============================] - 2s 13ms/sample - loss: 139.2179 - mean_squared_error: 139.2179 - val_loss: 78.4828 - val_mean_squared_error: 78.4828\n",
            "Epoch 14/150\n",
            "164/164 [==============================] - 2s 13ms/sample - loss: 116.3243 - mean_squared_error: 116.3243 - val_loss: 171.7632 - val_mean_squared_error: 171.7632\n",
            "Epoch 15/150\n",
            "164/164 [==============================] - 2s 13ms/sample - loss: 127.4735 - mean_squared_error: 127.4735 - val_loss: 71.6389 - val_mean_squared_error: 71.6389\n",
            "Epoch 16/150\n",
            "164/164 [==============================] - 2s 13ms/sample - loss: 131.4782 - mean_squared_error: 131.4782 - val_loss: 127.2729 - val_mean_squared_error: 127.2729\n",
            "Epoch 17/150\n",
            "164/164 [==============================] - 2s 13ms/sample - loss: 262.1113 - mean_squared_error: 262.1113 - val_loss: 142.5978 - val_mean_squared_error: 142.5978\n",
            "Epoch 18/150\n",
            "164/164 [==============================] - 2s 13ms/sample - loss: 187.1785 - mean_squared_error: 187.1786 - val_loss: 210.7028 - val_mean_squared_error: 210.7028\n",
            "Epoch 19/150\n",
            "164/164 [==============================] - 2s 13ms/sample - loss: 160.6838 - mean_squared_error: 160.6838 - val_loss: 538.3392 - val_mean_squared_error: 538.3392\n",
            "Epoch 20/150\n",
            "164/164 [==============================] - 2s 13ms/sample - loss: 264.7586 - mean_squared_error: 264.7586 - val_loss: 54.7141 - val_mean_squared_error: 54.7141\n",
            "Epoch 21/150\n",
            "164/164 [==============================] - 2s 13ms/sample - loss: 132.2200 - mean_squared_error: 132.2200 - val_loss: 224.8560 - val_mean_squared_error: 224.8560\n",
            "Epoch 22/150\n",
            "164/164 [==============================] - 2s 13ms/sample - loss: 210.5552 - mean_squared_error: 210.5552 - val_loss: 52.0109 - val_mean_squared_error: 52.0109\n",
            "Epoch 23/150\n",
            "164/164 [==============================] - 2s 13ms/sample - loss: 98.7079 - mean_squared_error: 98.7079 - val_loss: 137.1302 - val_mean_squared_error: 137.1302\n",
            "Epoch 24/150\n",
            "164/164 [==============================] - 2s 13ms/sample - loss: 69.4110 - mean_squared_error: 69.4110 - val_loss: 93.1250 - val_mean_squared_error: 93.1250\n",
            "Epoch 25/150\n",
            "164/164 [==============================] - 2s 13ms/sample - loss: 49.4750 - mean_squared_error: 49.4750 - val_loss: 45.2629 - val_mean_squared_error: 45.2629\n",
            "Epoch 26/150\n",
            "164/164 [==============================] - 2s 13ms/sample - loss: 56.7346 - mean_squared_error: 56.7346 - val_loss: 53.4781 - val_mean_squared_error: 53.4781\n",
            "Epoch 27/150\n",
            "164/164 [==============================] - 2s 13ms/sample - loss: 40.8637 - mean_squared_error: 40.8637 - val_loss: 181.1030 - val_mean_squared_error: 181.1030\n",
            "Epoch 28/150\n",
            "164/164 [==============================] - 2s 13ms/sample - loss: 105.6265 - mean_squared_error: 105.6265 - val_loss: 110.9743 - val_mean_squared_error: 110.9743\n",
            "Epoch 29/150\n",
            "164/164 [==============================] - 2s 13ms/sample - loss: 55.4713 - mean_squared_error: 55.4713 - val_loss: 120.4198 - val_mean_squared_error: 120.4198\n",
            "Epoch 30/150\n",
            "164/164 [==============================] - 2s 13ms/sample - loss: 43.4378 - mean_squared_error: 43.4378 - val_loss: 102.2521 - val_mean_squared_error: 102.2521\n",
            "Epoch 31/150\n",
            "164/164 [==============================] - 2s 13ms/sample - loss: 58.8314 - mean_squared_error: 58.8314 - val_loss: 44.8849 - val_mean_squared_error: 44.8848\n",
            "Epoch 32/150\n",
            "164/164 [==============================] - 2s 13ms/sample - loss: 57.5155 - mean_squared_error: 57.5155 - val_loss: 45.3684 - val_mean_squared_error: 45.3684\n",
            "Epoch 33/150\n",
            "164/164 [==============================] - 2s 13ms/sample - loss: 38.6971 - mean_squared_error: 38.6971 - val_loss: 43.6850 - val_mean_squared_error: 43.6850\n",
            "Epoch 34/150\n",
            "164/164 [==============================] - 2s 13ms/sample - loss: 46.9490 - mean_squared_error: 46.9490 - val_loss: 57.7340 - val_mean_squared_error: 57.7340\n",
            "Epoch 35/150\n",
            "164/164 [==============================] - 2s 13ms/sample - loss: 39.7922 - mean_squared_error: 39.7922 - val_loss: 65.7455 - val_mean_squared_error: 65.7455\n",
            "Epoch 36/150\n",
            "164/164 [==============================] - 2s 13ms/sample - loss: 34.9084 - mean_squared_error: 34.9084 - val_loss: 62.1865 - val_mean_squared_error: 62.1865\n",
            "Epoch 37/150\n",
            "164/164 [==============================] - 2s 13ms/sample - loss: 28.0911 - mean_squared_error: 28.0911 - val_loss: 70.3314 - val_mean_squared_error: 70.3314\n",
            "Epoch 38/150\n",
            "164/164 [==============================] - 2s 13ms/sample - loss: 19.7829 - mean_squared_error: 19.7829 - val_loss: 193.4408 - val_mean_squared_error: 193.4408\n",
            "Epoch 39/150\n",
            "164/164 [==============================] - 2s 13ms/sample - loss: 26.8985 - mean_squared_error: 26.8985 - val_loss: 80.5102 - val_mean_squared_error: 80.5102\n",
            "Epoch 40/150\n",
            "164/164 [==============================] - 2s 13ms/sample - loss: 24.0411 - mean_squared_error: 24.0411 - val_loss: 56.7501 - val_mean_squared_error: 56.7501\n",
            "Epoch 41/150\n",
            "164/164 [==============================] - 2s 13ms/sample - loss: 11.2747 - mean_squared_error: 11.2747 - val_loss: 119.2777 - val_mean_squared_error: 119.2777\n",
            "Epoch 42/150\n",
            "164/164 [==============================] - 2s 13ms/sample - loss: 16.6100 - mean_squared_error: 16.6100 - val_loss: 64.5013 - val_mean_squared_error: 64.5013\n",
            "Epoch 43/150\n",
            "164/164 [==============================] - 2s 13ms/sample - loss: 15.9029 - mean_squared_error: 15.9029 - val_loss: 107.7553 - val_mean_squared_error: 107.7553\n",
            "Epoch 44/150\n",
            "164/164 [==============================] - 2s 13ms/sample - loss: 12.5139 - mean_squared_error: 12.5139 - val_loss: 111.4179 - val_mean_squared_error: 111.4179\n",
            "Epoch 45/150\n",
            "164/164 [==============================] - 2s 13ms/sample - loss: 18.4686 - mean_squared_error: 18.4686 - val_loss: 57.4990 - val_mean_squared_error: 57.4990\n",
            "Epoch 46/150\n",
            "164/164 [==============================] - 2s 13ms/sample - loss: 11.5237 - mean_squared_error: 11.5237 - val_loss: 88.0148 - val_mean_squared_error: 88.0148\n",
            "Epoch 47/150\n",
            "164/164 [==============================] - 2s 13ms/sample - loss: 7.5982 - mean_squared_error: 7.5982 - val_loss: 54.6804 - val_mean_squared_error: 54.6804\n",
            "Epoch 48/150\n",
            "164/164 [==============================] - 2s 13ms/sample - loss: 17.8951 - mean_squared_error: 17.8951 - val_loss: 151.2854 - val_mean_squared_error: 151.2854\n",
            "Epoch 49/150\n",
            "164/164 [==============================] - 2s 13ms/sample - loss: 14.9284 - mean_squared_error: 14.9284 - val_loss: 87.9992 - val_mean_squared_error: 87.9992\n",
            "Epoch 50/150\n",
            "164/164 [==============================] - 2s 13ms/sample - loss: 4.3989 - mean_squared_error: 4.3989 - val_loss: 70.5448 - val_mean_squared_error: 70.5448\n",
            "Epoch 51/150\n",
            "164/164 [==============================] - 2s 13ms/sample - loss: 4.4592 - mean_squared_error: 4.4592 - val_loss: 120.7084 - val_mean_squared_error: 120.7084\n",
            "Epoch 52/150\n",
            "164/164 [==============================] - 2s 13ms/sample - loss: 4.5811 - mean_squared_error: 4.5811 - val_loss: 65.9738 - val_mean_squared_error: 65.9738\n",
            "Epoch 53/150\n",
            "164/164 [==============================] - 2s 13ms/sample - loss: 7.7296 - mean_squared_error: 7.7296 - val_loss: 126.2631 - val_mean_squared_error: 126.2631\n",
            "Epoch 54/150\n",
            "164/164 [==============================] - 2s 13ms/sample - loss: 10.8777 - mean_squared_error: 10.8777 - val_loss: 75.6861 - val_mean_squared_error: 75.6861\n",
            "Epoch 55/150\n",
            "164/164 [==============================] - 2s 13ms/sample - loss: 4.8057 - mean_squared_error: 4.8057 - val_loss: 70.1897 - val_mean_squared_error: 70.1897\n",
            "Epoch 56/150\n",
            "164/164 [==============================] - 2s 13ms/sample - loss: 8.8753 - mean_squared_error: 8.8753 - val_loss: 61.6947 - val_mean_squared_error: 61.6947\n",
            "Epoch 57/150\n",
            "164/164 [==============================] - 2s 13ms/sample - loss: 15.1956 - mean_squared_error: 15.1956 - val_loss: 126.0094 - val_mean_squared_error: 126.0094\n",
            "Epoch 58/150\n",
            "164/164 [==============================] - 2s 13ms/sample - loss: 6.8130 - mean_squared_error: 6.8130 - val_loss: 77.0463 - val_mean_squared_error: 77.0463\n",
            "Epoch 59/150\n",
            "164/164 [==============================] - 2s 13ms/sample - loss: 7.9107 - mean_squared_error: 7.9107 - val_loss: 62.9973 - val_mean_squared_error: 62.9973\n",
            "Epoch 60/150\n",
            "164/164 [==============================] - 2s 13ms/sample - loss: 7.2005 - mean_squared_error: 7.2005 - val_loss: 60.6618 - val_mean_squared_error: 60.6618\n",
            "Epoch 61/150\n",
            "164/164 [==============================] - 2s 13ms/sample - loss: 7.3071 - mean_squared_error: 7.3071 - val_loss: 121.5107 - val_mean_squared_error: 121.5107\n",
            "Epoch 62/150\n",
            "164/164 [==============================] - 2s 13ms/sample - loss: 6.8960 - mean_squared_error: 6.8960 - val_loss: 78.3887 - val_mean_squared_error: 78.3887\n",
            "Epoch 63/150\n",
            "164/164 [==============================] - 2s 13ms/sample - loss: 4.7570 - mean_squared_error: 4.7570 - val_loss: 80.6739 - val_mean_squared_error: 80.6739\n",
            "Epoch 64/150\n",
            "164/164 [==============================] - 2s 13ms/sample - loss: 2.7975 - mean_squared_error: 2.7975 - val_loss: 109.3410 - val_mean_squared_error: 109.3410\n",
            "Epoch 65/150\n",
            "164/164 [==============================] - 2s 13ms/sample - loss: 3.6117 - mean_squared_error: 3.6117 - val_loss: 73.6985 - val_mean_squared_error: 73.6985\n",
            "Epoch 66/150\n",
            "164/164 [==============================] - 2s 13ms/sample - loss: 3.4467 - mean_squared_error: 3.4467 - val_loss: 81.2887 - val_mean_squared_error: 81.2887\n",
            "Epoch 67/150\n",
            "164/164 [==============================] - 2s 13ms/sample - loss: 2.2468 - mean_squared_error: 2.2468 - val_loss: 97.1430 - val_mean_squared_error: 97.1430\n",
            "Epoch 68/150\n",
            "164/164 [==============================] - 2s 13ms/sample - loss: 2.2307 - mean_squared_error: 2.2307 - val_loss: 118.4418 - val_mean_squared_error: 118.4418\n",
            "Epoch 69/150\n",
            "164/164 [==============================] - 2s 13ms/sample - loss: 11.6723 - mean_squared_error: 11.6723 - val_loss: 61.7797 - val_mean_squared_error: 61.7797\n",
            "Epoch 70/150\n",
            "164/164 [==============================] - 2s 13ms/sample - loss: 12.4142 - mean_squared_error: 12.4142 - val_loss: 60.7160 - val_mean_squared_error: 60.7160\n",
            "Epoch 71/150\n",
            "164/164 [==============================] - 2s 13ms/sample - loss: 7.7951 - mean_squared_error: 7.7951 - val_loss: 88.4785 - val_mean_squared_error: 88.4786\n",
            "Epoch 72/150\n",
            "164/164 [==============================] - 2s 13ms/sample - loss: 4.9169 - mean_squared_error: 4.9169 - val_loss: 78.2182 - val_mean_squared_error: 78.2182\n",
            "Epoch 73/150\n",
            "164/164 [==============================] - 2s 13ms/sample - loss: 1.6632 - mean_squared_error: 1.6632 - val_loss: 81.6249 - val_mean_squared_error: 81.6249\n",
            "Epoch 74/150\n",
            "164/164 [==============================] - 2s 13ms/sample - loss: 2.9387 - mean_squared_error: 2.9387 - val_loss: 79.4266 - val_mean_squared_error: 79.4266\n",
            "Epoch 75/150\n",
            "164/164 [==============================] - 2s 13ms/sample - loss: 0.6176 - mean_squared_error: 0.6176 - val_loss: 94.7780 - val_mean_squared_error: 94.7780\n",
            "Epoch 76/150\n",
            "164/164 [==============================] - 2s 13ms/sample - loss: 2.3172 - mean_squared_error: 2.3172 - val_loss: 90.3883 - val_mean_squared_error: 90.3883\n",
            "Epoch 77/150\n",
            "164/164 [==============================] - 2s 13ms/sample - loss: 0.5862 - mean_squared_error: 0.5862 - val_loss: 82.5270 - val_mean_squared_error: 82.5270\n",
            "Epoch 78/150\n",
            "164/164 [==============================] - 2s 13ms/sample - loss: 0.6183 - mean_squared_error: 0.6183 - val_loss: 68.3599 - val_mean_squared_error: 68.3599\n",
            "Epoch 79/150\n",
            "164/164 [==============================] - 2s 13ms/sample - loss: 1.9476 - mean_squared_error: 1.9476 - val_loss: 79.8759 - val_mean_squared_error: 79.8759\n",
            "Epoch 80/150\n",
            "164/164 [==============================] - 2s 13ms/sample - loss: 1.3447 - mean_squared_error: 1.3447 - val_loss: 78.2985 - val_mean_squared_error: 78.2985\n",
            "Epoch 81/150\n",
            "164/164 [==============================] - 2s 13ms/sample - loss: 2.9527 - mean_squared_error: 2.9527 - val_loss: 74.0076 - val_mean_squared_error: 74.0076\n",
            "Epoch 82/150\n",
            "164/164 [==============================] - 2s 13ms/sample - loss: 1.4480 - mean_squared_error: 1.4480 - val_loss: 75.6999 - val_mean_squared_error: 75.6999\n",
            "Epoch 83/150\n",
            "164/164 [==============================] - 2s 13ms/sample - loss: 1.0442 - mean_squared_error: 1.0442 - val_loss: 76.2653 - val_mean_squared_error: 76.2653\n",
            "Epoch 84/150\n",
            "164/164 [==============================] - 2s 13ms/sample - loss: 0.4602 - mean_squared_error: 0.4602 - val_loss: 96.2240 - val_mean_squared_error: 96.2240\n",
            "Epoch 85/150\n",
            "164/164 [==============================] - 2s 13ms/sample - loss: 0.8005 - mean_squared_error: 0.8005 - val_loss: 90.7521 - val_mean_squared_error: 90.7521\n",
            "Epoch 86/150\n",
            "164/164 [==============================] - 2s 13ms/sample - loss: 0.2950 - mean_squared_error: 0.2950 - val_loss: 80.9371 - val_mean_squared_error: 80.9371\n",
            "Epoch 87/150\n",
            "164/164 [==============================] - 2s 13ms/sample - loss: 0.1911 - mean_squared_error: 0.1911 - val_loss: 84.4289 - val_mean_squared_error: 84.4289\n",
            "Epoch 88/150\n",
            "164/164 [==============================] - 2s 13ms/sample - loss: 0.1782 - mean_squared_error: 0.1782 - val_loss: 85.3456 - val_mean_squared_error: 85.3456\n",
            "Epoch 89/150\n",
            "164/164 [==============================] - 2s 13ms/sample - loss: 0.1034 - mean_squared_error: 0.1034 - val_loss: 81.6499 - val_mean_squared_error: 81.6499\n",
            "Epoch 90/150\n",
            "164/164 [==============================] - 2s 13ms/sample - loss: 0.1380 - mean_squared_error: 0.1380 - val_loss: 84.5875 - val_mean_squared_error: 84.5875\n",
            "Epoch 91/150\n",
            "164/164 [==============================] - 2s 13ms/sample - loss: 0.1479 - mean_squared_error: 0.1479 - val_loss: 87.3581 - val_mean_squared_error: 87.3581\n",
            "Epoch 92/150\n",
            "164/164 [==============================] - 2s 13ms/sample - loss: 0.0817 - mean_squared_error: 0.0817 - val_loss: 79.8459 - val_mean_squared_error: 79.8459\n",
            "Epoch 93/150\n",
            "164/164 [==============================] - 2s 13ms/sample - loss: 0.1430 - mean_squared_error: 0.1430 - val_loss: 93.6188 - val_mean_squared_error: 93.6188\n",
            "Epoch 94/150\n",
            "164/164 [==============================] - 2s 13ms/sample - loss: 0.5194 - mean_squared_error: 0.5194 - val_loss: 76.6949 - val_mean_squared_error: 76.6949\n",
            "Epoch 95/150\n",
            "164/164 [==============================] - 2s 13ms/sample - loss: 0.6146 - mean_squared_error: 0.6146 - val_loss: 80.0476 - val_mean_squared_error: 80.0476\n",
            "Epoch 96/150\n",
            "164/164 [==============================] - 2s 13ms/sample - loss: 1.0977 - mean_squared_error: 1.0977 - val_loss: 101.7462 - val_mean_squared_error: 101.7462\n",
            "Epoch 97/150\n",
            "164/164 [==============================] - 2s 13ms/sample - loss: 1.4165 - mean_squared_error: 1.4165 - val_loss: 73.5685 - val_mean_squared_error: 73.5685\n",
            "Epoch 98/150\n",
            "164/164 [==============================] - 2s 13ms/sample - loss: 2.8267 - mean_squared_error: 2.8267 - val_loss: 70.6357 - val_mean_squared_error: 70.6357\n",
            "Epoch 99/150\n",
            "164/164 [==============================] - 2s 13ms/sample - loss: 2.0383 - mean_squared_error: 2.0383 - val_loss: 100.9990 - val_mean_squared_error: 100.9990\n",
            "Epoch 100/150\n",
            "164/164 [==============================] - 2s 13ms/sample - loss: 4.2554 - mean_squared_error: 4.2554 - val_loss: 73.8066 - val_mean_squared_error: 73.8066\n",
            "Epoch 101/150\n",
            "164/164 [==============================] - 2s 13ms/sample - loss: 5.2395 - mean_squared_error: 5.2395 - val_loss: 67.3553 - val_mean_squared_error: 67.3553\n",
            "Epoch 102/150\n",
            "164/164 [==============================] - 2s 13ms/sample - loss: 8.1201 - mean_squared_error: 8.1201 - val_loss: 142.2539 - val_mean_squared_error: 142.2538\n",
            "Epoch 103/150\n",
            "164/164 [==============================] - 2s 13ms/sample - loss: 7.7939 - mean_squared_error: 7.7939 - val_loss: 61.4351 - val_mean_squared_error: 61.4351\n",
            "Epoch 104/150\n",
            "164/164 [==============================] - 2s 13ms/sample - loss: 23.5438 - mean_squared_error: 23.5438 - val_loss: 87.2224 - val_mean_squared_error: 87.2224\n",
            "Epoch 105/150\n",
            "164/164 [==============================] - 2s 13ms/sample - loss: 2.8131 - mean_squared_error: 2.8131 - val_loss: 105.6010 - val_mean_squared_error: 105.6010\n",
            "Epoch 106/150\n",
            "164/164 [==============================] - 2s 13ms/sample - loss: 4.4620 - mean_squared_error: 4.4620 - val_loss: 80.8060 - val_mean_squared_error: 80.8060\n",
            "Epoch 107/150\n",
            "164/164 [==============================] - 2s 13ms/sample - loss: 4.7294 - mean_squared_error: 4.7294 - val_loss: 129.4843 - val_mean_squared_error: 129.4843\n",
            "Epoch 108/150\n",
            "164/164 [==============================] - 2s 13ms/sample - loss: 9.0967 - mean_squared_error: 9.0967 - val_loss: 80.8595 - val_mean_squared_error: 80.8595\n",
            "Epoch 109/150\n",
            "164/164 [==============================] - 2s 13ms/sample - loss: 2.7078 - mean_squared_error: 2.7078 - val_loss: 79.7698 - val_mean_squared_error: 79.7698\n",
            "Epoch 110/150\n",
            "164/164 [==============================] - 2s 13ms/sample - loss: 1.5013 - mean_squared_error: 1.5013 - val_loss: 111.7456 - val_mean_squared_error: 111.7456\n",
            "Epoch 111/150\n",
            "164/164 [==============================] - 2s 13ms/sample - loss: 4.3989 - mean_squared_error: 4.3989 - val_loss: 98.2319 - val_mean_squared_error: 98.2319\n",
            "Epoch 112/150\n",
            "164/164 [==============================] - 2s 13ms/sample - loss: 3.1177 - mean_squared_error: 3.1177 - val_loss: 68.4311 - val_mean_squared_error: 68.4311\n",
            "Epoch 113/150\n",
            "164/164 [==============================] - 2s 13ms/sample - loss: 14.0941 - mean_squared_error: 14.0941 - val_loss: 76.8625 - val_mean_squared_error: 76.8625\n",
            "Epoch 114/150\n",
            "164/164 [==============================] - 2s 13ms/sample - loss: 19.9210 - mean_squared_error: 19.9210 - val_loss: 61.2377 - val_mean_squared_error: 61.2377\n",
            "Epoch 115/150\n",
            "164/164 [==============================] - 2s 13ms/sample - loss: 29.5106 - mean_squared_error: 29.5106 - val_loss: 64.5467 - val_mean_squared_error: 64.5467\n",
            "Epoch 116/150\n",
            "164/164 [==============================] - 2s 13ms/sample - loss: 4.1056 - mean_squared_error: 4.1056 - val_loss: 93.1499 - val_mean_squared_error: 93.1499\n",
            "Epoch 117/150\n",
            "164/164 [==============================] - 2s 13ms/sample - loss: 7.7906 - mean_squared_error: 7.7906 - val_loss: 94.8137 - val_mean_squared_error: 94.8137\n",
            "Epoch 118/150\n",
            "164/164 [==============================] - 2s 13ms/sample - loss: 41.9109 - mean_squared_error: 41.9109 - val_loss: 105.6679 - val_mean_squared_error: 105.6679\n",
            "Epoch 119/150\n",
            "164/164 [==============================] - 2s 13ms/sample - loss: 64.9577 - mean_squared_error: 64.9577 - val_loss: 95.8444 - val_mean_squared_error: 95.8444\n",
            "Epoch 120/150\n",
            "164/164 [==============================] - 2s 13ms/sample - loss: 34.5218 - mean_squared_error: 34.5218 - val_loss: 906.5481 - val_mean_squared_error: 906.5480\n",
            "Epoch 121/150\n",
            "164/164 [==============================] - 2s 13ms/sample - loss: 5572.1473 - mean_squared_error: 5572.1475 - val_loss: 3463.5907 - val_mean_squared_error: 3463.5906\n",
            "Epoch 122/150\n",
            "164/164 [==============================] - 2s 13ms/sample - loss: 3123.5239 - mean_squared_error: 3123.5237 - val_loss: 2051.1942 - val_mean_squared_error: 2051.1941\n",
            "Epoch 123/150\n",
            "164/164 [==============================] - 2s 13ms/sample - loss: 2210.1334 - mean_squared_error: 2210.1333 - val_loss: 293.4235 - val_mean_squared_error: 293.4235\n",
            "Epoch 124/150\n",
            "164/164 [==============================] - 2s 13ms/sample - loss: 789.5875 - mean_squared_error: 789.5874 - val_loss: 660.0948 - val_mean_squared_error: 660.0948\n",
            "Epoch 125/150\n",
            "164/164 [==============================] - 2s 13ms/sample - loss: 512.1004 - mean_squared_error: 512.1004 - val_loss: 243.7934 - val_mean_squared_error: 243.7934\n",
            "Epoch 126/150\n",
            "164/164 [==============================] - 2s 13ms/sample - loss: 446.9368 - mean_squared_error: 446.9368 - val_loss: 79.5525 - val_mean_squared_error: 79.5525\n",
            "Epoch 127/150\n",
            "164/164 [==============================] - 2s 13ms/sample - loss: 310.9019 - mean_squared_error: 310.9019 - val_loss: 533.0950 - val_mean_squared_error: 533.0950\n",
            "Epoch 128/150\n",
            "164/164 [==============================] - 2s 13ms/sample - loss: 185.4387 - mean_squared_error: 185.4387 - val_loss: 67.2462 - val_mean_squared_error: 67.2462\n",
            "Epoch 129/150\n",
            "164/164 [==============================] - 2s 13ms/sample - loss: 118.3348 - mean_squared_error: 118.3349 - val_loss: 85.3645 - val_mean_squared_error: 85.3645\n",
            "Epoch 130/150\n",
            "164/164 [==============================] - 2s 13ms/sample - loss: 114.2081 - mean_squared_error: 114.2081 - val_loss: 63.9067 - val_mean_squared_error: 63.9067\n",
            "Epoch 131/150\n",
            "164/164 [==============================] - 2s 13ms/sample - loss: 71.9455 - mean_squared_error: 71.9455 - val_loss: 91.2124 - val_mean_squared_error: 91.2124\n",
            "Epoch 132/150\n",
            "164/164 [==============================] - 2s 13ms/sample - loss: 44.0510 - mean_squared_error: 44.0510 - val_loss: 121.7183 - val_mean_squared_error: 121.7183\n",
            "Epoch 133/150\n",
            "164/164 [==============================] - 2s 13ms/sample - loss: 35.6356 - mean_squared_error: 35.6356 - val_loss: 62.4826 - val_mean_squared_error: 62.4826\n",
            "Epoch 134/150\n",
            "164/164 [==============================] - 2s 13ms/sample - loss: 32.8413 - mean_squared_error: 32.8413 - val_loss: 88.5692 - val_mean_squared_error: 88.5692\n",
            "Epoch 135/150\n",
            "164/164 [==============================] - 2s 13ms/sample - loss: 32.6561 - mean_squared_error: 32.6561 - val_loss: 67.0290 - val_mean_squared_error: 67.0290\n",
            "Epoch 136/150\n",
            "164/164 [==============================] - 2s 13ms/sample - loss: 28.2161 - mean_squared_error: 28.2161 - val_loss: 70.0299 - val_mean_squared_error: 70.0299\n",
            "Epoch 137/150\n",
            "164/164 [==============================] - 2s 13ms/sample - loss: 21.8454 - mean_squared_error: 21.8454 - val_loss: 69.2073 - val_mean_squared_error: 69.2073\n",
            "Epoch 138/150\n",
            "164/164 [==============================] - 2s 13ms/sample - loss: 18.9253 - mean_squared_error: 18.9253 - val_loss: 99.4205 - val_mean_squared_error: 99.4205\n",
            "Epoch 139/150\n",
            "164/164 [==============================] - 2s 13ms/sample - loss: 19.6705 - mean_squared_error: 19.6705 - val_loss: 64.1387 - val_mean_squared_error: 64.1387\n",
            "Epoch 140/150\n",
            "164/164 [==============================] - 2s 13ms/sample - loss: 13.4749 - mean_squared_error: 13.4749 - val_loss: 121.4897 - val_mean_squared_error: 121.4897\n",
            "Epoch 141/150\n",
            "164/164 [==============================] - 2s 13ms/sample - loss: 16.2512 - mean_squared_error: 16.2512 - val_loss: 154.1851 - val_mean_squared_error: 154.1851\n",
            "Epoch 142/150\n",
            "164/164 [==============================] - 2s 13ms/sample - loss: 17.0234 - mean_squared_error: 17.0234 - val_loss: 107.9489 - val_mean_squared_error: 107.9489\n",
            "Epoch 143/150\n",
            "164/164 [==============================] - 2s 13ms/sample - loss: 6.6925 - mean_squared_error: 6.6925 - val_loss: 90.7652 - val_mean_squared_error: 90.7652\n",
            "Epoch 144/150\n",
            "164/164 [==============================] - 2s 13ms/sample - loss: 6.9979 - mean_squared_error: 6.9979 - val_loss: 88.7037 - val_mean_squared_error: 88.7037\n",
            "Epoch 145/150\n",
            "164/164 [==============================] - 2s 13ms/sample - loss: 4.4705 - mean_squared_error: 4.4705 - val_loss: 99.0244 - val_mean_squared_error: 99.0244\n",
            "Epoch 146/150\n",
            "164/164 [==============================] - 2s 13ms/sample - loss: 5.4136 - mean_squared_error: 5.4136 - val_loss: 109.4273 - val_mean_squared_error: 109.4274\n",
            "Epoch 147/150\n",
            "164/164 [==============================] - 2s 13ms/sample - loss: 5.6321 - mean_squared_error: 5.6321 - val_loss: 119.5595 - val_mean_squared_error: 119.5595\n",
            "Epoch 148/150\n",
            "164/164 [==============================] - 2s 13ms/sample - loss: 5.1849 - mean_squared_error: 5.1849 - val_loss: 93.5129 - val_mean_squared_error: 93.5129\n",
            "Epoch 149/150\n",
            "164/164 [==============================] - 2s 13ms/sample - loss: 1.6824 - mean_squared_error: 1.6824 - val_loss: 83.8492 - val_mean_squared_error: 83.8492\n",
            "Epoch 150/150\n",
            "164/164 [==============================] - 2s 13ms/sample - loss: 1.0966 - mean_squared_error: 1.0966 - val_loss: 79.7591 - val_mean_squared_error: 79.7591\n"
          ],
          "name": "stdout"
        }
      ]
    },
    {
      "cell_type": "markdown",
      "metadata": {
        "id": "zdJ-JuK2xRnY",
        "colab_type": "text"
      },
      "source": [
        "##Result Model1"
      ]
    },
    {
      "cell_type": "code",
      "metadata": {
        "id": "PHAfGGwq_7W4",
        "colab_type": "code",
        "colab": {
          "base_uri": "https://localhost:8080/",
          "height": 278
        },
        "outputId": "21704f9f-9652-4f82-81b6-591632ef7ca0"
      },
      "source": [
        "# Get training and test loss histories\n",
        "training_loss = history.history['loss']\n",
        "test_loss = history.history['val_loss']\n",
        "\n",
        "# Create count of the number of epochs\n",
        "epoch_count = range(1, len(120) + 1)\n",
        "\n",
        "# Visualize loss history\n",
        "plt.plot(epoch_count, training_loss, 'r--')\n",
        "plt.plot(epoch_count, test_loss, 'b-')\n",
        "plt.legend(['Training Loss', 'Test Loss'])\n",
        "plt.xlabel('Epoch')\n",
        "plt.ylabel('Loss')\n",
        "plt.show();"
      ],
      "execution_count": 20,
      "outputs": [
        {
          "output_type": "display_data",
          "data": {
            "image/png": "[encoded data removed]",
            "text/plain": [
              "<Figure size 432x288 with 1 Axes>"
            ]
          },
          "metadata": {
            "tags": [],
            "needs_background": "light"
          }
        }
      ]
    },
    {
      "cell_type": "code",
      "metadata": {
        "id": "FaKsetXspsL7",
        "colab_type": "code",
        "colab": {}
      },
      "source": [
        "predicted = m1.predict(test_cells)"
      ],
      "execution_count": 21,
      "outputs": []
    },
    {
      "cell_type": "code",
      "metadata": {
        "id": "ZF7xrPqDgpzy",
        "colab_type": "code",
        "colab": {
          "base_uri": "https://localhost:8080/",
          "height": 72
        },
        "outputId": "11f66b00-a38f-47a8-9301-e0b3f108ac21"
      },
      "source": [
        "print(history.history['val_mean_squared_error'])\n",
        "print(round(np.mean(np.abs(test_dots-predicted)),4))"
      ],
      "execution_count": 22,
      "outputs": [
        {
          "output_type": "stream",
          "text": [
            "[891.2596, 2069.075, 2135.0059, 1358.249, 623.75793, 772.4072, 536.79675, 305.46545, 221.7458, 136.3131, 153.86514, 310.48965, 78.482834, 171.76318, 71.63887, 127.272934, 142.59784, 210.7028, 538.3392, 54.71407, 224.85599, 52.010887, 137.13025, 93.12503, 45.262856, 53.47809, 181.103, 110.97432, 120.41978, 102.2521, 44.88485, 45.368416, 43.685028, 57.733955, 65.7455, 62.186504, 70.33144, 193.44083, 80.51017, 56.7501, 119.27767, 64.50133, 107.755295, 111.41786, 57.499023, 88.01484, 54.680367, 151.28537, 87.99917, 70.54483, 120.7084, 65.97379, 126.26311, 75.68611, 70.18972, 61.694664, 126.0094, 77.04629, 62.997326, 60.661785, 121.51072, 78.388695, 80.67389, 109.34104, 73.69847, 81.28865, 97.14296, 118.44179, 61.779694, 60.71598, 88.47855, 78.21818, 81.62489, 79.426605, 94.778015, 90.388306, 82.52698, 68.359886, 79.8759, 78.298546, 74.00761, 75.69985, 76.265335, 96.224, 90.7521, 80.93712, 84.42894, 85.34557, 81.649925, 84.58755, 87.358116, 79.84586, 93.618774, 76.6949, 80.0476, 101.74619, 73.56849, 70.6357, 100.99898, 73.806625, 67.3553, 142.25385, 61.43507, 87.22239, 105.601, 80.806015, 129.48428, 80.85948, 79.769806, 111.74557, 98.23195, 68.43107, 76.862526, 61.237743, 64.546715, 93.14989, 94.81372, 105.667885, 95.84442, 906.54803, 3463.5906, 2051.194, 293.42346, 660.09485, 243.79341, 79.55254, 533.09503, 67.24616, 85.364456, 63.90666, 91.21243, 121.718346, 62.482563, 88.569214, 67.02897, 70.02993, 69.20726, 99.42051, 64.13869, 121.489746, 154.18512, 107.94887, 90.76524, 88.70372, 99.0244, 109.42735, 119.55955, 93.512856, 83.849236, 79.75911]\n",
            "62.5331\n"
          ],
          "name": "stdout"
        }
      ]
    },
    {
      "cell_type": "markdown",
      "metadata": {
        "id": "5K6DHt9OxVBN",
        "colab_type": "text"
      },
      "source": [
        "##Model2"
      ]
    },
    {
      "cell_type": "code",
      "metadata": {
        "id": "M5DwF0Dpu4NH",
        "colab_type": "code",
        "colab": {
          "base_uri": "https://localhost:8080/",
          "height": 606
        },
        "outputId": "4d5e5fff-ec8a-464a-89fc-5b2d82b38d7b"
      },
      "source": [
        "m2 = keras.Sequential(layers=None, name=None)\n",
        "m2.add(Rescaling(1./255, input_shape=shape))\n",
        "\n",
        "m2.add(Conv2D(64, 3, activation=tf.keras.layers.LeakyReLU(alpha=0.3)))\n",
        "m2.add(Conv2D(64, 3, activation=tf.keras.layers.LeakyReLU(alpha=0.3)))\n",
        "m2.add(MaxPooling2D())\n",
        "\n",
        "m2.add(Conv2D(64, 3, activation=tf.keras.layers.LeakyReLU(alpha=0.3)))\n",
        "m2.add(Conv2D(64, 3, activation='relu'))\n",
        "m2.add(MaxPooling2D())\n",
        "\n",
        "m2.add(Conv2D(64, 3, activation=tf.keras.layers.LeakyReLU(alpha=0.3)))\n",
        "m2.add(Conv2D(64, 3, activation=tf.keras.layers.LeakyReLU(alpha=0.3)))\n",
        "m2.add(MaxPooling2D())\n",
        "\n",
        "m2.add(Flatten())\n",
        "m2.add(Dense(64, activation=tf.keras.layers.LeakyReLU(alpha=0.3)))\n",
        "m2.add(Dense(1))\n",
        "m2.summary()"
      ],
      "execution_count": 27,
      "outputs": [
        {
          "output_type": "stream",
          "text": [
            "Model: \"sequential_5\"\n",
            "_________________________________________________________________\n",
            "Layer (type)                 Output Shape              Param #   \n",
            "=================================================================\n",
            "rescaling_5 (Rescaling)      (None, 256, 256, 3)       0         \n",
            "_________________________________________________________________\n",
            "conv2d_7 (Conv2D)            (None, 254, 254, 64)      1792      \n",
            "_________________________________________________________________\n",
            "conv2d_8 (Conv2D)            (None, 252, 252, 64)      36928     \n",
            "_________________________________________________________________\n",
            "max_pooling2d_3 (MaxPooling2 (None, 126, 126, 64)      0         \n",
            "_________________________________________________________________\n",
            "conv2d_9 (Conv2D)            (None, 124, 124, 64)      36928     \n",
            "_________________________________________________________________\n",
            "conv2d_10 (Conv2D)           (None, 122, 122, 64)      36928     \n",
            "_________________________________________________________________\n",
            "max_pooling2d_4 (MaxPooling2 (None, 61, 61, 64)        0         \n",
            "_________________________________________________________________\n",
            "conv2d_11 (Conv2D)           (None, 59, 59, 64)        36928     \n",
            "_________________________________________________________________\n",
            "conv2d_12 (Conv2D)           (None, 57, 57, 64)        36928     \n",
            "_________________________________________________________________\n",
            "max_pooling2d_5 (MaxPooling2 (None, 28, 28, 64)        0         \n",
            "_________________________________________________________________\n",
            "flatten_1 (Flatten)          (None, 50176)             0         \n",
            "_________________________________________________________________\n",
            "dense_2 (Dense)              (None, 64)                3211328   \n",
            "_________________________________________________________________\n",
            "dense_3 (Dense)              (None, 1)                 65        \n",
            "=================================================================\n",
            "Total params: 3,397,825\n",
            "Trainable params: 3,397,825\n",
            "Non-trainable params: 0\n",
            "_________________________________________________________________\n"
          ],
          "name": "stdout"
        }
      ]
    },
    {
      "cell_type": "code",
      "metadata": {
        "id": "nTyW7ODIv7z2",
        "colab_type": "code",
        "colab": {}
      },
      "source": [
        "# compile model\n",
        "m2.compile(optimizer='adam', loss='mse',metrics=[tf.keras.metrics.MeanSquaredError()])"
      ],
      "execution_count": 28,
      "outputs": []
    },
    {
      "cell_type": "code",
      "metadata": {
        "id": "Auvl96mZv_uI",
        "colab_type": "code",
        "colab": {
          "base_uri": "https://localhost:8080/",
          "height": 1000
        },
        "outputId": "f6651ac3-6d42-408a-af4b-7138c5850e9f"
      },
      "source": [
        "EPOCHS=120\n",
        "\n",
        "history2 = m2.fit( training_cells, training_dots, validation_data=(test_cells,test_dots), batch_size=16, epochs=EPOCHS)"
      ],
      "execution_count": 29,
      "outputs": [
        {
          "output_type": "stream",
          "text": [
            "Train on 164 samples, validate on 40 samples\n",
            "Epoch 1/120\n",
            "164/164 [==============================] - 4s 23ms/sample - loss: 20731.4889 - mean_squared_error: 20731.4902 - val_loss: 17239.9678 - val_mean_squared_error: 17239.9668\n",
            "Epoch 2/120\n",
            "164/164 [==============================] - 3s 17ms/sample - loss: 10159.1490 - mean_squared_error: 10159.1484 - val_loss: 4506.2370 - val_mean_squared_error: 4506.2368\n",
            "Epoch 3/120\n",
            "164/164 [==============================] - 3s 17ms/sample - loss: 4173.9471 - mean_squared_error: 4173.9473 - val_loss: 866.2559 - val_mean_squared_error: 866.2560\n",
            "Epoch 4/120\n",
            "164/164 [==============================] - 3s 17ms/sample - loss: 1545.2526 - mean_squared_error: 1545.2527 - val_loss: 846.2687 - val_mean_squared_error: 846.2687\n",
            "Epoch 5/120\n",
            "164/164 [==============================] - 3s 17ms/sample - loss: 1124.5463 - mean_squared_error: 1124.5463 - val_loss: 697.6016 - val_mean_squared_error: 697.6017\n",
            "Epoch 6/120\n",
            "164/164 [==============================] - 3s 17ms/sample - loss: 990.0526 - mean_squared_error: 990.0526 - val_loss: 620.2182 - val_mean_squared_error: 620.2181\n",
            "Epoch 7/120\n",
            "164/164 [==============================] - 3s 17ms/sample - loss: 780.7358 - mean_squared_error: 780.7357 - val_loss: 620.5294 - val_mean_squared_error: 620.5294\n",
            "Epoch 8/120\n",
            "164/164 [==============================] - 3s 17ms/sample - loss: 594.5226 - mean_squared_error: 594.5227 - val_loss: 757.7883 - val_mean_squared_error: 757.7883\n",
            "Epoch 9/120\n",
            "164/164 [==============================] - 3s 17ms/sample - loss: 398.7113 - mean_squared_error: 398.7112 - val_loss: 118.2995 - val_mean_squared_error: 118.2995\n",
            "Epoch 10/120\n",
            "164/164 [==============================] - 3s 18ms/sample - loss: 262.7832 - mean_squared_error: 262.7832 - val_loss: 360.0817 - val_mean_squared_error: 360.0817\n",
            "Epoch 11/120\n",
            "164/164 [==============================] - 3s 18ms/sample - loss: 289.5221 - mean_squared_error: 289.5221 - val_loss: 728.0827 - val_mean_squared_error: 728.0827\n",
            "Epoch 12/120\n",
            "164/164 [==============================] - 3s 17ms/sample - loss: 290.6495 - mean_squared_error: 290.6495 - val_loss: 226.0561 - val_mean_squared_error: 226.0561\n",
            "Epoch 13/120\n",
            "164/164 [==============================] - 3s 17ms/sample - loss: 266.6113 - mean_squared_error: 266.6113 - val_loss: 165.3135 - val_mean_squared_error: 165.3135\n",
            "Epoch 14/120\n",
            "164/164 [==============================] - 3s 17ms/sample - loss: 116.6361 - mean_squared_error: 116.6361 - val_loss: 91.4300 - val_mean_squared_error: 91.4300\n",
            "Epoch 15/120\n",
            "164/164 [==============================] - 3s 17ms/sample - loss: 101.0295 - mean_squared_error: 101.0295 - val_loss: 60.2532 - val_mean_squared_error: 60.2532\n",
            "Epoch 16/120\n",
            "164/164 [==============================] - 3s 17ms/sample - loss: 87.0329 - mean_squared_error: 87.0329 - val_loss: 102.3648 - val_mean_squared_error: 102.3648\n",
            "Epoch 17/120\n",
            "164/164 [==============================] - 3s 17ms/sample - loss: 83.2719 - mean_squared_error: 83.2719 - val_loss: 121.1400 - val_mean_squared_error: 121.1400\n",
            "Epoch 18/120\n",
            "164/164 [==============================] - 3s 17ms/sample - loss: 143.8935 - mean_squared_error: 143.8935 - val_loss: 46.2169 - val_mean_squared_error: 46.2169\n",
            "Epoch 19/120\n",
            "164/164 [==============================] - 3s 17ms/sample - loss: 151.8741 - mean_squared_error: 151.8741 - val_loss: 167.4480 - val_mean_squared_error: 167.4480\n",
            "Epoch 20/120\n",
            "164/164 [==============================] - 3s 17ms/sample - loss: 147.4459 - mean_squared_error: 147.4459 - val_loss: 48.8449 - val_mean_squared_error: 48.8449\n",
            "Epoch 21/120\n",
            "164/164 [==============================] - 3s 17ms/sample - loss: 122.4120 - mean_squared_error: 122.4121 - val_loss: 256.5853 - val_mean_squared_error: 256.5853\n",
            "Epoch 22/120\n",
            "164/164 [==============================] - 3s 17ms/sample - loss: 102.6304 - mean_squared_error: 102.6304 - val_loss: 129.2711 - val_mean_squared_error: 129.2711\n",
            "Epoch 23/120\n",
            "164/164 [==============================] - 3s 17ms/sample - loss: 79.3637 - mean_squared_error: 79.3637 - val_loss: 130.5424 - val_mean_squared_error: 130.5424\n",
            "Epoch 24/120\n",
            "164/164 [==============================] - 3s 17ms/sample - loss: 83.3964 - mean_squared_error: 83.3964 - val_loss: 47.0533 - val_mean_squared_error: 47.0533\n",
            "Epoch 25/120\n",
            "164/164 [==============================] - 3s 17ms/sample - loss: 65.6728 - mean_squared_error: 65.6728 - val_loss: 42.1053 - val_mean_squared_error: 42.1053\n",
            "Epoch 26/120\n",
            "164/164 [==============================] - 3s 17ms/sample - loss: 46.2643 - mean_squared_error: 46.2643 - val_loss: 45.4251 - val_mean_squared_error: 45.4251\n",
            "Epoch 27/120\n",
            "164/164 [==============================] - 3s 17ms/sample - loss: 47.3621 - mean_squared_error: 47.3621 - val_loss: 38.2141 - val_mean_squared_error: 38.2141\n",
            "Epoch 28/120\n",
            "164/164 [==============================] - 3s 17ms/sample - loss: 43.7423 - mean_squared_error: 43.7423 - val_loss: 36.0146 - val_mean_squared_error: 36.0146\n",
            "Epoch 29/120\n",
            "164/164 [==============================] - 3s 17ms/sample - loss: 52.6260 - mean_squared_error: 52.6260 - val_loss: 38.5008 - val_mean_squared_error: 38.5008\n",
            "Epoch 30/120\n",
            "164/164 [==============================] - 3s 17ms/sample - loss: 34.5610 - mean_squared_error: 34.5610 - val_loss: 145.0551 - val_mean_squared_error: 145.0551\n",
            "Epoch 31/120\n",
            "164/164 [==============================] - 3s 17ms/sample - loss: 45.6346 - mean_squared_error: 45.6346 - val_loss: 38.1114 - val_mean_squared_error: 38.1114\n",
            "Epoch 32/120\n",
            "164/164 [==============================] - 3s 17ms/sample - loss: 26.1193 - mean_squared_error: 26.1193 - val_loss: 126.1048 - val_mean_squared_error: 126.1048\n",
            "Epoch 33/120\n",
            "164/164 [==============================] - 3s 17ms/sample - loss: 36.9278 - mean_squared_error: 36.9278 - val_loss: 45.1510 - val_mean_squared_error: 45.1510\n",
            "Epoch 34/120\n",
            "164/164 [==============================] - 3s 17ms/sample - loss: 24.8922 - mean_squared_error: 24.8922 - val_loss: 54.0254 - val_mean_squared_error: 54.0254\n",
            "Epoch 35/120\n",
            "164/164 [==============================] - 3s 17ms/sample - loss: 17.7757 - mean_squared_error: 17.7757 - val_loss: 52.6039 - val_mean_squared_error: 52.6039\n",
            "Epoch 36/120\n",
            "164/164 [==============================] - 3s 17ms/sample - loss: 18.9881 - mean_squared_error: 18.9881 - val_loss: 41.5000 - val_mean_squared_error: 41.5000\n",
            "Epoch 37/120\n",
            "164/164 [==============================] - 3s 17ms/sample - loss: 19.2051 - mean_squared_error: 19.2051 - val_loss: 44.0879 - val_mean_squared_error: 44.0879\n",
            "Epoch 38/120\n",
            "164/164 [==============================] - 3s 17ms/sample - loss: 18.8350 - mean_squared_error: 18.8350 - val_loss: 69.9418 - val_mean_squared_error: 69.9418\n",
            "Epoch 39/120\n",
            "164/164 [==============================] - 3s 18ms/sample - loss: 17.3032 - mean_squared_error: 17.3032 - val_loss: 154.5600 - val_mean_squared_error: 154.5600\n",
            "Epoch 40/120\n",
            "164/164 [==============================] - 3s 17ms/sample - loss: 43.8751 - mean_squared_error: 43.8751 - val_loss: 45.7022 - val_mean_squared_error: 45.7022\n",
            "Epoch 41/120\n",
            "164/164 [==============================] - 3s 17ms/sample - loss: 14.6290 - mean_squared_error: 14.6290 - val_loss: 144.4548 - val_mean_squared_error: 144.4548\n",
            "Epoch 42/120\n",
            "164/164 [==============================] - 3s 17ms/sample - loss: 33.3319 - mean_squared_error: 33.3319 - val_loss: 55.9546 - val_mean_squared_error: 55.9546\n",
            "Epoch 43/120\n",
            "164/164 [==============================] - 3s 17ms/sample - loss: 20.6417 - mean_squared_error: 20.6417 - val_loss: 55.6774 - val_mean_squared_error: 55.6774\n",
            "Epoch 44/120\n",
            "164/164 [==============================] - 3s 17ms/sample - loss: 10.5817 - mean_squared_error: 10.5817 - val_loss: 53.3591 - val_mean_squared_error: 53.3591\n",
            "Epoch 45/120\n",
            "164/164 [==============================] - 3s 17ms/sample - loss: 11.2717 - mean_squared_error: 11.2717 - val_loss: 58.8610 - val_mean_squared_error: 58.8610\n",
            "Epoch 46/120\n",
            "164/164 [==============================] - 3s 17ms/sample - loss: 7.4538 - mean_squared_error: 7.4538 - val_loss: 80.5994 - val_mean_squared_error: 80.5993\n",
            "Epoch 47/120\n",
            "164/164 [==============================] - 3s 17ms/sample - loss: 5.5486 - mean_squared_error: 5.5486 - val_loss: 96.7685 - val_mean_squared_error: 96.7685\n",
            "Epoch 48/120\n",
            "164/164 [==============================] - 3s 17ms/sample - loss: 7.3037 - mean_squared_error: 7.3037 - val_loss: 75.7920 - val_mean_squared_error: 75.7920\n",
            "Epoch 49/120\n",
            "164/164 [==============================] - 3s 17ms/sample - loss: 4.0727 - mean_squared_error: 4.0727 - val_loss: 68.3716 - val_mean_squared_error: 68.3716\n",
            "Epoch 50/120\n",
            "164/164 [==============================] - 3s 17ms/sample - loss: 5.8505 - mean_squared_error: 5.8505 - val_loss: 89.8849 - val_mean_squared_error: 89.8849\n",
            "Epoch 51/120\n",
            "164/164 [==============================] - 3s 18ms/sample - loss: 5.4156 - mean_squared_error: 5.4156 - val_loss: 64.9553 - val_mean_squared_error: 64.9553\n",
            "Epoch 52/120\n",
            "164/164 [==============================] - 3s 17ms/sample - loss: 3.4382 - mean_squared_error: 3.4382 - val_loss: 65.7228 - val_mean_squared_error: 65.7228\n",
            "Epoch 53/120\n",
            "164/164 [==============================] - 3s 17ms/sample - loss: 3.1331 - mean_squared_error: 3.1332 - val_loss: 101.3892 - val_mean_squared_error: 101.3893\n",
            "Epoch 54/120\n",
            "164/164 [==============================] - 3s 17ms/sample - loss: 3.4332 - mean_squared_error: 3.4332 - val_loss: 66.0532 - val_mean_squared_error: 66.0531\n",
            "Epoch 55/120\n",
            "164/164 [==============================] - 3s 17ms/sample - loss: 2.1517 - mean_squared_error: 2.1517 - val_loss: 93.0924 - val_mean_squared_error: 93.0924\n",
            "Epoch 56/120\n",
            "164/164 [==============================] - 3s 17ms/sample - loss: 3.5191 - mean_squared_error: 3.5191 - val_loss: 68.1195 - val_mean_squared_error: 68.1195\n",
            "Epoch 57/120\n",
            "164/164 [==============================] - 3s 17ms/sample - loss: 6.5204 - mean_squared_error: 6.5204 - val_loss: 62.1933 - val_mean_squared_error: 62.1933\n",
            "Epoch 58/120\n",
            "164/164 [==============================] - 3s 17ms/sample - loss: 4.9127 - mean_squared_error: 4.9127 - val_loss: 102.8985 - val_mean_squared_error: 102.8985\n",
            "Epoch 59/120\n",
            "164/164 [==============================] - 3s 17ms/sample - loss: 4.5713 - mean_squared_error: 4.5713 - val_loss: 60.9199 - val_mean_squared_error: 60.9199\n",
            "Epoch 60/120\n",
            "164/164 [==============================] - 3s 17ms/sample - loss: 3.7618 - mean_squared_error: 3.7618 - val_loss: 72.5735 - val_mean_squared_error: 72.5735\n",
            "Epoch 61/120\n",
            "164/164 [==============================] - 3s 17ms/sample - loss: 3.1761 - mean_squared_error: 3.1761 - val_loss: 82.8711 - val_mean_squared_error: 82.8711\n",
            "Epoch 62/120\n",
            "164/164 [==============================] - 3s 17ms/sample - loss: 1.2462 - mean_squared_error: 1.2462 - val_loss: 65.9182 - val_mean_squared_error: 65.9182\n",
            "Epoch 63/120\n",
            "164/164 [==============================] - 3s 17ms/sample - loss: 3.1208 - mean_squared_error: 3.1208 - val_loss: 76.7710 - val_mean_squared_error: 76.7710\n",
            "Epoch 64/120\n",
            "164/164 [==============================] - 3s 17ms/sample - loss: 1.3222 - mean_squared_error: 1.3222 - val_loss: 73.6081 - val_mean_squared_error: 73.6081\n",
            "Epoch 65/120\n",
            "164/164 [==============================] - 3s 17ms/sample - loss: 1.1277 - mean_squared_error: 1.1277 - val_loss: 76.3923 - val_mean_squared_error: 76.3923\n",
            "Epoch 66/120\n",
            "164/164 [==============================] - 3s 17ms/sample - loss: 0.9682 - mean_squared_error: 0.9682 - val_loss: 76.8698 - val_mean_squared_error: 76.8698\n",
            "Epoch 67/120\n",
            "164/164 [==============================] - 3s 18ms/sample - loss: 0.6735 - mean_squared_error: 0.6735 - val_loss: 72.2952 - val_mean_squared_error: 72.2952\n",
            "Epoch 68/120\n",
            "164/164 [==============================] - 3s 17ms/sample - loss: 0.7456 - mean_squared_error: 0.7456 - val_loss: 85.6237 - val_mean_squared_error: 85.6237\n",
            "Epoch 69/120\n",
            "164/164 [==============================] - 3s 17ms/sample - loss: 0.8781 - mean_squared_error: 0.8781 - val_loss: 71.5800 - val_mean_squared_error: 71.5800\n",
            "Epoch 70/120\n",
            "164/164 [==============================] - 3s 17ms/sample - loss: 1.2643 - mean_squared_error: 1.2643 - val_loss: 74.2310 - val_mean_squared_error: 74.2310\n",
            "Epoch 71/120\n",
            "164/164 [==============================] - 3s 17ms/sample - loss: 2.0443 - mean_squared_error: 2.0443 - val_loss: 66.1143 - val_mean_squared_error: 66.1143\n",
            "Epoch 72/120\n",
            "164/164 [==============================] - 3s 17ms/sample - loss: 2.2854 - mean_squared_error: 2.2854 - val_loss: 68.4828 - val_mean_squared_error: 68.4828\n",
            "Epoch 73/120\n",
            "164/164 [==============================] - 3s 18ms/sample - loss: 2.7356 - mean_squared_error: 2.7356 - val_loss: 66.7316 - val_mean_squared_error: 66.7316\n",
            "Epoch 74/120\n",
            "164/164 [==============================] - 3s 17ms/sample - loss: 4.1285 - mean_squared_error: 4.1285 - val_loss: 63.7497 - val_mean_squared_error: 63.7497\n",
            "Epoch 75/120\n",
            "164/164 [==============================] - 3s 17ms/sample - loss: 4.9708 - mean_squared_error: 4.9708 - val_loss: 62.3870 - val_mean_squared_error: 62.3870\n",
            "Epoch 76/120\n",
            "164/164 [==============================] - 3s 17ms/sample - loss: 5.7519 - mean_squared_error: 5.7519 - val_loss: 75.8353 - val_mean_squared_error: 75.8353\n",
            "Epoch 77/120\n",
            "164/164 [==============================] - 3s 17ms/sample - loss: 1.6257 - mean_squared_error: 1.6257 - val_loss: 95.9105 - val_mean_squared_error: 95.9105\n",
            "Epoch 78/120\n",
            "164/164 [==============================] - 3s 17ms/sample - loss: 3.4365 - mean_squared_error: 3.4365 - val_loss: 98.7713 - val_mean_squared_error: 98.7713\n",
            "Epoch 79/120\n",
            "164/164 [==============================] - 3s 17ms/sample - loss: 2.8278 - mean_squared_error: 2.8278 - val_loss: 84.1711 - val_mean_squared_error: 84.1711\n",
            "Epoch 80/120\n",
            "164/164 [==============================] - 3s 17ms/sample - loss: 0.8488 - mean_squared_error: 0.8488 - val_loss: 79.2604 - val_mean_squared_error: 79.2604\n",
            "Epoch 81/120\n",
            "164/164 [==============================] - 3s 17ms/sample - loss: 0.8464 - mean_squared_error: 0.8464 - val_loss: 75.2849 - val_mean_squared_error: 75.2849\n",
            "Epoch 82/120\n",
            "164/164 [==============================] - 3s 17ms/sample - loss: 1.3213 - mean_squared_error: 1.3213 - val_loss: 77.9174 - val_mean_squared_error: 77.9174\n",
            "Epoch 83/120\n",
            "164/164 [==============================] - 3s 17ms/sample - loss: 4.2455 - mean_squared_error: 4.2455 - val_loss: 91.7178 - val_mean_squared_error: 91.7178\n",
            "Epoch 84/120\n",
            "164/164 [==============================] - 3s 18ms/sample - loss: 8.0377 - mean_squared_error: 8.0377 - val_loss: 120.5008 - val_mean_squared_error: 120.5008\n",
            "Epoch 85/120\n",
            "164/164 [==============================] - 3s 17ms/sample - loss: 6.9792 - mean_squared_error: 6.9792 - val_loss: 100.0097 - val_mean_squared_error: 100.0097\n",
            "Epoch 86/120\n",
            "164/164 [==============================] - 3s 17ms/sample - loss: 2.2649 - mean_squared_error: 2.2649 - val_loss: 86.7904 - val_mean_squared_error: 86.7904\n",
            "Epoch 87/120\n",
            "164/164 [==============================] - 3s 17ms/sample - loss: 0.9300 - mean_squared_error: 0.9300 - val_loss: 92.1459 - val_mean_squared_error: 92.1460\n",
            "Epoch 88/120\n",
            "164/164 [==============================] - 3s 17ms/sample - loss: 0.8635 - mean_squared_error: 0.8635 - val_loss: 81.1086 - val_mean_squared_error: 81.1086\n",
            "Epoch 89/120\n",
            "164/164 [==============================] - 3s 17ms/sample - loss: 0.4704 - mean_squared_error: 0.4704 - val_loss: 81.6181 - val_mean_squared_error: 81.6181\n",
            "Epoch 90/120\n",
            "164/164 [==============================] - 3s 17ms/sample - loss: 0.3378 - mean_squared_error: 0.3378 - val_loss: 85.4787 - val_mean_squared_error: 85.4787\n",
            "Epoch 91/120\n",
            "164/164 [==============================] - 3s 17ms/sample - loss: 0.6760 - mean_squared_error: 0.6760 - val_loss: 77.7429 - val_mean_squared_error: 77.7429\n",
            "Epoch 92/120\n",
            "164/164 [==============================] - 3s 17ms/sample - loss: 0.1495 - mean_squared_error: 0.1495 - val_loss: 85.5498 - val_mean_squared_error: 85.5498\n",
            "Epoch 93/120\n",
            "164/164 [==============================] - 3s 17ms/sample - loss: 0.2468 - mean_squared_error: 0.2468 - val_loss: 81.6132 - val_mean_squared_error: 81.6132\n",
            "Epoch 94/120\n",
            "164/164 [==============================] - 3s 17ms/sample - loss: 0.1633 - mean_squared_error: 0.1633 - val_loss: 77.9605 - val_mean_squared_error: 77.9605\n",
            "Epoch 95/120\n",
            "164/164 [==============================] - 3s 17ms/sample - loss: 0.4358 - mean_squared_error: 0.4358 - val_loss: 90.7489 - val_mean_squared_error: 90.7489\n",
            "Epoch 96/120\n",
            "164/164 [==============================] - 3s 17ms/sample - loss: 0.6153 - mean_squared_error: 0.6153 - val_loss: 81.7364 - val_mean_squared_error: 81.7365\n",
            "Epoch 97/120\n",
            "164/164 [==============================] - 3s 17ms/sample - loss: 0.1143 - mean_squared_error: 0.1143 - val_loss: 82.9082 - val_mean_squared_error: 82.9082\n",
            "Epoch 98/120\n",
            "164/164 [==============================] - 3s 17ms/sample - loss: 0.1210 - mean_squared_error: 0.1210 - val_loss: 85.0714 - val_mean_squared_error: 85.0714\n",
            "Epoch 99/120\n",
            "164/164 [==============================] - 3s 17ms/sample - loss: 0.5439 - mean_squared_error: 0.5439 - val_loss: 80.0953 - val_mean_squared_error: 80.0953\n",
            "Epoch 100/120\n",
            "164/164 [==============================] - 3s 17ms/sample - loss: 0.7502 - mean_squared_error: 0.7502 - val_loss: 95.5847 - val_mean_squared_error: 95.5847\n",
            "Epoch 101/120\n",
            "164/164 [==============================] - 3s 17ms/sample - loss: 0.7170 - mean_squared_error: 0.7170 - val_loss: 79.8505 - val_mean_squared_error: 79.8505\n",
            "Epoch 102/120\n",
            "164/164 [==============================] - 3s 17ms/sample - loss: 0.2782 - mean_squared_error: 0.2782 - val_loss: 83.2313 - val_mean_squared_error: 83.2313\n",
            "Epoch 103/120\n",
            "164/164 [==============================] - 3s 18ms/sample - loss: 0.2128 - mean_squared_error: 0.2128 - val_loss: 79.6572 - val_mean_squared_error: 79.6572\n",
            "Epoch 104/120\n",
            "164/164 [==============================] - 3s 17ms/sample - loss: 0.1850 - mean_squared_error: 0.1850 - val_loss: 78.9600 - val_mean_squared_error: 78.9600\n",
            "Epoch 105/120\n",
            "164/164 [==============================] - 3s 17ms/sample - loss: 0.1460 - mean_squared_error: 0.1460 - val_loss: 82.7616 - val_mean_squared_error: 82.7616\n",
            "Epoch 106/120\n",
            "164/164 [==============================] - 3s 17ms/sample - loss: 0.1953 - mean_squared_error: 0.1953 - val_loss: 78.3291 - val_mean_squared_error: 78.3291\n",
            "Epoch 107/120\n",
            "164/164 [==============================] - 3s 17ms/sample - loss: 0.2353 - mean_squared_error: 0.2353 - val_loss: 84.3788 - val_mean_squared_error: 84.3788\n",
            "Epoch 108/120\n",
            "164/164 [==============================] - 3s 17ms/sample - loss: 0.1178 - mean_squared_error: 0.1178 - val_loss: 82.2761 - val_mean_squared_error: 82.2761\n",
            "Epoch 109/120\n",
            "164/164 [==============================] - 3s 17ms/sample - loss: 0.0464 - mean_squared_error: 0.0464 - val_loss: 83.7307 - val_mean_squared_error: 83.7307\n",
            "Epoch 110/120\n",
            "164/164 [==============================] - 3s 17ms/sample - loss: 0.0465 - mean_squared_error: 0.0465 - val_loss: 82.5573 - val_mean_squared_error: 82.5573\n",
            "Epoch 111/120\n",
            "164/164 [==============================] - 3s 17ms/sample - loss: 0.0174 - mean_squared_error: 0.0174 - val_loss: 87.4126 - val_mean_squared_error: 87.4126\n",
            "Epoch 112/120\n",
            "164/164 [==============================] - 3s 17ms/sample - loss: 0.1109 - mean_squared_error: 0.1109 - val_loss: 82.8777 - val_mean_squared_error: 82.8777\n",
            "Epoch 113/120\n",
            "164/164 [==============================] - 3s 17ms/sample - loss: 0.0154 - mean_squared_error: 0.0154 - val_loss: 82.0604 - val_mean_squared_error: 82.0604\n",
            "Epoch 114/120\n",
            "164/164 [==============================] - 3s 17ms/sample - loss: 0.0425 - mean_squared_error: 0.0425 - val_loss: 81.1313 - val_mean_squared_error: 81.1313\n",
            "Epoch 115/120\n",
            "164/164 [==============================] - 3s 17ms/sample - loss: 0.1159 - mean_squared_error: 0.1159 - val_loss: 82.1714 - val_mean_squared_error: 82.1714\n",
            "Epoch 116/120\n",
            "164/164 [==============================] - 3s 17ms/sample - loss: 0.0534 - mean_squared_error: 0.0534 - val_loss: 82.3556 - val_mean_squared_error: 82.3556\n",
            "Epoch 117/120\n",
            "164/164 [==============================] - 3s 17ms/sample - loss: 0.0727 - mean_squared_error: 0.0727 - val_loss: 84.7020 - val_mean_squared_error: 84.7020\n",
            "Epoch 118/120\n",
            "164/164 [==============================] - 3s 17ms/sample - loss: 0.0931 - mean_squared_error: 0.0931 - val_loss: 85.7424 - val_mean_squared_error: 85.7424\n",
            "Epoch 119/120\n",
            "164/164 [==============================] - 3s 17ms/sample - loss: 0.0748 - mean_squared_error: 0.0748 - val_loss: 83.6177 - val_mean_squared_error: 83.6177\n",
            "Epoch 120/120\n",
            "164/164 [==============================] - 3s 17ms/sample - loss: 0.1484 - mean_squared_error: 0.1484 - val_loss: 88.6197 - val_mean_squared_error: 88.6197\n"
          ],
          "name": "stdout"
        }
      ]
    },
    {
      "cell_type": "markdown",
      "metadata": {
        "id": "6NNo5G4axXU2",
        "colab_type": "text"
      },
      "source": [
        "##Result Model2"
      ]
    },
    {
      "cell_type": "code",
      "metadata": {
        "id": "33md1_npwHqU",
        "colab_type": "code",
        "colab": {
          "base_uri": "https://localhost:8080/",
          "height": 278
        },
        "outputId": "ad9c17f0-c2c3-46b6-d6b5-7f6195c89104"
      },
      "source": [
        "# Get training and test loss histories\n",
        "training_loss2 = history2.history['loss']\n",
        "test_loss2 = history2.history['val_loss']\n",
        "\n",
        "# Create count of the number of epochs\n",
        "epoch_count2 = range(1, len(training_loss2) + 1)\n",
        "\n",
        "# Visualize loss history\n",
        "plt.plot(epoch_count2, training_loss2, 'r--')\n",
        "plt.plot(epoch_count2, test_loss2, 'b-')\n",
        "plt.legend(['Training Loss', 'Test Loss'])\n",
        "plt.xlabel('Epoch')\n",
        "plt.ylabel('Loss')\n",
        "plt.show();"
      ],
      "execution_count": 30,
      "outputs": [
        {
          "output_type": "display_data",
          "data": {
            "image/png": "[encoded data removed]",
            "text/plain": [
              "<Figure size 432x288 with 1 Axes>"
            ]
          },
          "metadata": {
            "tags": [],
            "needs_background": "light"
          }
        }
      ]
    },
    {
      "cell_type": "code",
      "metadata": {
        "id": "iV1n58KUwYBO",
        "colab_type": "code",
        "colab": {}
      },
      "source": [
        "predicted2 = m2.predict(test_cells)"
      ],
      "execution_count": 31,
      "outputs": []
    },
    {
      "cell_type": "code",
      "metadata": {
        "id": "8R9fdu83wc2e",
        "colab_type": "code",
        "colab": {
          "base_uri": "https://localhost:8080/",
          "height": 52
        },
        "outputId": "4aa465b1-6883-46e0-f8a0-1eae784d821e"
      },
      "source": [
        "print(np.min(history2.history['val_mean_squared_error']))\n",
        "print(round(np.mean(np.abs(test_dots-predicted2)),4))"
      ],
      "execution_count": 35,
      "outputs": [
        {
          "output_type": "stream",
          "text": [
            "36.01463\n",
            "62.7734\n"
          ],
          "name": "stdout"
        }
      ]
    },
    {
      "cell_type": "code",
      "metadata": {
        "id": "ItzDkSiLxCEH",
        "colab_type": "code",
        "colab": {}
      },
      "source": [
        ""
      ],
      "execution_count": null,
      "outputs": []
    }
  ]
}